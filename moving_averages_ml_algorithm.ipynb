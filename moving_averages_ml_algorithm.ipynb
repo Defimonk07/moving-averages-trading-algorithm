{
 "cells": [
  {
   "cell_type": "code",
   "execution_count": 8,
   "id": "9cc3d1c6-bc16-45f1-ad84-b6735b156030",
   "metadata": {},
   "outputs": [
    {
     "name": "stderr",
     "output_type": "stream",
     "text": [
      "[*********************100%***********************]  1 of 1 completed\n",
      "C:\\Users\\HP\\AppData\\Local\\Temp\\ipykernel_13092\\2574185292.py:12: FutureWarning: Series.__getitem__ treating keys as positions is deprecated. In a future version, integer keys will always be treated as labels (consistent with DataFrame behavior). To access a value by position, use `ser.iloc[pos]`\n",
      "  data['Signal'][10:] = [1 if data['MA_10'][i] > data['MA_30'][i] else 0 for i in range(10, len(data))]\n",
      "C:\\Users\\HP\\AppData\\Local\\Temp\\ipykernel_13092\\2574185292.py:12: FutureWarning: ChainedAssignmentError: behaviour will change in pandas 3.0!\n",
      "You are setting values through chained assignment. Currently this works in certain cases, but when using Copy-on-Write (which will become the default behaviour in pandas 3.0) this will never work to update the original DataFrame or Series, because the intermediate object on which we are setting values will behave as a copy.\n",
      "A typical example is when you are setting values in a column of a DataFrame, like:\n",
      "\n",
      "df[\"col\"][row_indexer] = value\n",
      "\n",
      "Use `df.loc[row_indexer, \"col\"] = values` instead, to perform the assignment in a single step and ensure this keeps updating the original `df`.\n",
      "\n",
      "See the caveats in the documentation: https://pandas.pydata.org/pandas-docs/stable/user_guide/indexing.html#returning-a-view-versus-a-copy\n",
      "\n",
      "  data['Signal'][10:] = [1 if data['MA_10'][i] > data['MA_30'][i] else 0 for i in range(10, len(data))]\n",
      "C:\\Users\\HP\\AppData\\Local\\Temp\\ipykernel_13092\\2574185292.py:12: SettingWithCopyWarning: \n",
      "A value is trying to be set on a copy of a slice from a DataFrame\n",
      "\n",
      "See the caveats in the documentation: https://pandas.pydata.org/pandas-docs/stable/user_guide/indexing.html#returning-a-view-versus-a-copy\n",
      "  data['Signal'][10:] = [1 if data['MA_10'][i] > data['MA_30'][i] else 0 for i in range(10, len(data))]\n"
     ]
    },
    {
     "name": "stdout",
     "output_type": "stream",
     "text": [
      "              precision    recall  f1-score   support\n",
      "\n",
      "           0       0.52      0.43      0.47        79\n",
      "           1       0.48      0.57      0.52        72\n",
      "\n",
      "    accuracy                           0.50       151\n",
      "   macro avg       0.50      0.50      0.50       151\n",
      "weighted avg       0.50      0.50      0.49       151\n",
      "\n"
     ]
    }
   ],
   "source": [
    "import pandas as pd\n",
    "from sklearn.ensemble import RandomForestClassifier\n",
    "from sklearn.model_selection import train_test_split\n",
    "from sklearn.metrics import classification_report\n",
    "import yfinance as yf\n",
    "\n",
    "# Step 1: Data Collection\n",
    "data = yf.download('AAPL', start='2020-01-01', end='2023-01-01')\n",
    "data['MA_10'] = data['Close'].rolling(window=10).mean()\n",
    "data['MA_30'] = data['Close'].rolling(window=30).mean()\n",
    "data['Signal'] = 0\n",
    "data['Signal'][10:] = [1 if data['MA_10'][i] > data['MA_30'][i] else 0 for i in range(10, len(data))]\n",
    "\n",
    "# Step 2: Feature Engineering\n",
    "data['Returns'] = data['Close'].pct_change()\n",
    "data['Future_Return'] = data['Returns'].shift(-1)\n",
    "\n",
    "# Define features and target\n",
    "X = data[['MA_10', 'MA_30', 'Returns']][:-1]  # Exclude last row due to shifting\n",
    "y = (data['Future_Return'] > 0).astype(int)[:-1]  # Buy if future return is positive\n",
    "\n",
    "# Step 3: Split the data\n",
    "X_train, X_test, y_train, y_test = train_test_split(X, y, test_size=0.2, shuffle=False)\n",
    "\n",
    "# Step 4: Train the Model\n",
    "model = RandomForestClassifier()\n",
    "model.fit(X_train, y_train)\n",
    "\n",
    "# Step 5: Evaluate the Model\n",
    "y_pred = model.predict(X_test)\n",
    "print(classification_report(y_test, y_pred))\n"
   ]
  },
  {
   "cell_type": "code",
   "execution_count": null,
   "id": "c292c50a-9d99-44c6-8b10-850b6aa6a66d",
   "metadata": {},
   "outputs": [],
   "source": []
  }
 ],
 "metadata": {
  "kernelspec": {
   "display_name": "Python 3 (ipykernel)",
   "language": "python",
   "name": "python3"
  },
  "language_info": {
   "codemirror_mode": {
    "name": "ipython",
    "version": 3
   },
   "file_extension": ".py",
   "mimetype": "text/x-python",
   "name": "python",
   "nbconvert_exporter": "python",
   "pygments_lexer": "ipython3",
   "version": "3.12.4"
  }
 },
 "nbformat": 4,
 "nbformat_minor": 5
}
